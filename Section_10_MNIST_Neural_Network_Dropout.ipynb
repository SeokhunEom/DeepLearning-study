{
  "nbformat": 4,
  "nbformat_minor": 0,
  "metadata": {
    "colab": {
      "provenance": [],
      "authorship_tag": "ABX9TyPu1/L8T/SaAKd86oF5cNtw",
      "include_colab_link": true
    },
    "kernelspec": {
      "name": "python3",
      "display_name": "Python 3"
    },
    "language_info": {
      "name": "python"
    }
  },
  "cells": [
    {
      "cell_type": "markdown",
      "metadata": {
        "id": "view-in-github",
        "colab_type": "text"
      },
      "source": [
        "<a href=\"https://colab.research.google.com/github/SeokhunEom/DeepLearning-study/blob/main/Section_10_MNIST_Neural_Network_Dropout.ipynb\" target=\"_parent\"><img src=\"https://colab.research.google.com/assets/colab-badge.svg\" alt=\"Open In Colab\"/></a>"
      ]
    },
    {
      "cell_type": "code",
      "execution_count": 1,
      "metadata": {
        "id": "3YkffOen_lSy"
      },
      "outputs": [],
      "source": [
        "import numpy as np\n",
        "import random\n",
        "import tensorflow as tf"
      ]
    },
    {
      "cell_type": "code",
      "source": [
        "# Set a fixed seed for random number generation for reproducibility.\n",
        "random.seed(777)\n",
        "\n",
        "# Define hyperparameters for the model training.\n",
        "learning_rate = 0.001  # Learning rate for the optimizer.\n",
        "batch_size = 100  # Number of samples per gradient update.\n",
        "training_epochs = 15  # Number of epochs to train the model.\n",
        "nb_classes = 10  # Number of output classes for classification (digits 0-9).\n",
        "drop_rate = 0.3  # Dropout rate for regularization."
      ],
      "metadata": {
        "id": "X7D82an7__kf"
      },
      "execution_count": 2,
      "outputs": []
    },
    {
      "cell_type": "code",
      "source": [
        "# Load the MNIST dataset, which is already split into training and testing sets.\n",
        "(x_train, y_train), (x_test, y_test) = tf.keras.datasets.mnist.load_data()\n",
        "print(x_train.shape)  # Output the shape of the training data."
      ],
      "metadata": {
        "colab": {
          "base_uri": "https://localhost:8080/"
        },
        "id": "6FTXWwbLAE3L",
        "outputId": "f7945920-5c7b-4878-95cf-1b2e56d64970"
      },
      "execution_count": 3,
      "outputs": [
        {
          "output_type": "stream",
          "name": "stdout",
          "text": [
            "(60000, 28, 28)\n"
          ]
        }
      ]
    },
    {
      "cell_type": "code",
      "source": [
        "# Reshape the training and testing data from (num_samples, 28, 28) to (num_samples, 784).\n",
        "# This converts each 28x28 image into a 784-dimensional vector.\n",
        "x_train = x_train.reshape(x_train.shape[0], 28 * 28)\n",
        "x_test = x_test.reshape(x_test.shape[0], 28 * 28)"
      ],
      "metadata": {
        "id": "61NyiM3tAO_K"
      },
      "execution_count": 4,
      "outputs": []
    },
    {
      "cell_type": "code",
      "source": [
        "# Convert class vectors (integers) to binary class matrices (one-hot encoding).\n",
        "# This is required for the categorical cross-entropy loss function.\n",
        "y_train = tf.keras.utils.to_categorical(y_train, nb_classes)\n",
        "y_test = tf.keras.utils.to_categorical(y_test, nb_classes)"
      ],
      "metadata": {
        "id": "aYVl2eTXAQrP"
      },
      "execution_count": 5,
      "outputs": []
    },
    {
      "cell_type": "code",
      "source": [
        "# Initialize a Sequential model.\n",
        "tf.model = tf.keras.Sequential()"
      ],
      "metadata": {
        "id": "F9fVCwtLASfd"
      },
      "execution_count": 6,
      "outputs": []
    },
    {
      "cell_type": "code",
      "source": [
        "# Add dense (fully connected) layers with Xavier normal initializer (also called Glorot normal initializer).\n",
        "# The Glorot normal initializer draws samples from a truncated normal distribution centered on 0 with stddev = sqrt(2 / (fan_in + fan_out)).\n",
        "# This helps in maintaining the variance of weights during initialization.\n",
        "\n",
        "# First dense layer with 512 units and ReLU activation.\n",
        "tf.model.add(tf.keras.layers.Dense(input_dim=784, units=512, kernel_initializer='glorot_normal', activation='relu'))\n",
        "# Dropout layer to prevent overfitting by randomly setting a fraction of input units to 0.\n",
        "tf.model.add(tf.keras.layers.Dropout(drop_rate))\n",
        "\n",
        "# Second dense layer with 512 units and ReLU activation.\n",
        "tf.model.add(tf.keras.layers.Dense(units=512, kernel_initializer='glorot_normal', activation='relu'))\n",
        "tf.model.add(tf.keras.layers.Dropout(drop_rate))\n",
        "\n",
        "# Third dense layer with 512 units and ReLU activation.\n",
        "tf.model.add(tf.keras.layers.Dense(units=512, kernel_initializer='glorot_normal', activation='relu'))\n",
        "tf.model.add(tf.keras.layers.Dropout(drop_rate))\n",
        "\n",
        "# Fourth dense layer with 512 units and ReLU activation.\n",
        "tf.model.add(tf.keras.layers.Dense(units=512, kernel_initializer='glorot_normal', activation='relu'))\n",
        "tf.model.add(tf.keras.layers.Dropout(drop_rate))\n",
        "\n",
        "# Output layer with units equal to the number of classes (10) and softmax activation.\n",
        "# The softmax activation function outputs a probability distribution over the classes.\n",
        "tf.model.add(tf.keras.layers.Dense(units=nb_classes, kernel_initializer='glorot_normal', activation='softmax'))"
      ],
      "metadata": {
        "id": "eohh_ao9AUgb"
      },
      "execution_count": 7,
      "outputs": []
    },
    {
      "cell_type": "code",
      "source": [
        "# Compile the model with categorical cross-entropy loss, Adam optimizer, and accuracy metric.\n",
        "tf.model.compile(loss='categorical_crossentropy',\n",
        "                 optimizer=tf.keras.optimizers.Adam(learning_rate=learning_rate), metrics=['accuracy'])"
      ],
      "metadata": {
        "id": "ZGi-H-5MAYS7"
      },
      "execution_count": 8,
      "outputs": []
    },
    {
      "cell_type": "code",
      "source": [
        "# Print a summary of the model architecture.\n",
        "tf.model.summary()"
      ],
      "metadata": {
        "colab": {
          "base_uri": "https://localhost:8080/"
        },
        "id": "uqKzIxdgAbsk",
        "outputId": "7943d634-b0ff-45c7-9f5e-5da1c322ba58"
      },
      "execution_count": 9,
      "outputs": [
        {
          "output_type": "stream",
          "name": "stdout",
          "text": [
            "Model: \"sequential\"\n",
            "_________________________________________________________________\n",
            " Layer (type)                Output Shape              Param #   \n",
            "=================================================================\n",
            " dense (Dense)               (None, 512)               401920    \n",
            "                                                                 \n",
            " dropout (Dropout)           (None, 512)               0         \n",
            "                                                                 \n",
            " dense_1 (Dense)             (None, 512)               262656    \n",
            "                                                                 \n",
            " dropout_1 (Dropout)         (None, 512)               0         \n",
            "                                                                 \n",
            " dense_2 (Dense)             (None, 512)               262656    \n",
            "                                                                 \n",
            " dropout_2 (Dropout)         (None, 512)               0         \n",
            "                                                                 \n",
            " dense_3 (Dense)             (None, 512)               262656    \n",
            "                                                                 \n",
            " dropout_3 (Dropout)         (None, 512)               0         \n",
            "                                                                 \n",
            " dense_4 (Dense)             (None, 10)                5130      \n",
            "                                                                 \n",
            "=================================================================\n",
            "Total params: 1195018 (4.56 MB)\n",
            "Trainable params: 1195018 (4.56 MB)\n",
            "Non-trainable params: 0 (0.00 Byte)\n",
            "_________________________________________________________________\n"
          ]
        }
      ]
    },
    {
      "cell_type": "code",
      "source": [
        "# Train the model on the training data.\n",
        "# The history object contains the training metrics (loss and accuracy) for each epoch.\n",
        "history = tf.model.fit(x_train, y_train, batch_size=batch_size, epochs=training_epochs)"
      ],
      "metadata": {
        "colab": {
          "base_uri": "https://localhost:8080/"
        },
        "id": "Q0IDQyBPAc4e",
        "outputId": "a2f6a8e9-6cf1-4f6b-cc83-7eb83ab6d209"
      },
      "execution_count": 10,
      "outputs": [
        {
          "output_type": "stream",
          "name": "stdout",
          "text": [
            "Epoch 1/15\n",
            "600/600 [==============================] - 20s 30ms/step - loss: 2.0394 - accuracy: 0.7617\n",
            "Epoch 2/15\n",
            "600/600 [==============================] - 16s 27ms/step - loss: 0.3718 - accuracy: 0.8967\n",
            "Epoch 3/15\n",
            "600/600 [==============================] - 17s 29ms/step - loss: 0.2706 - accuracy: 0.9254\n",
            "Epoch 4/15\n",
            "600/600 [==============================] - 17s 28ms/step - loss: 0.2277 - accuracy: 0.9382\n",
            "Epoch 5/15\n",
            "600/600 [==============================] - 16s 27ms/step - loss: 0.2032 - accuracy: 0.9442\n",
            "Epoch 6/15\n",
            "600/600 [==============================] - 16s 27ms/step - loss: 0.1854 - accuracy: 0.9507\n",
            "Epoch 7/15\n",
            "600/600 [==============================] - 16s 27ms/step - loss: 0.1878 - accuracy: 0.9502\n",
            "Epoch 8/15\n",
            "600/600 [==============================] - 17s 29ms/step - loss: 0.1775 - accuracy: 0.9530\n",
            "Epoch 9/15\n",
            "600/600 [==============================] - 16s 27ms/step - loss: 0.1825 - accuracy: 0.9532\n",
            "Epoch 10/15\n",
            "600/600 [==============================] - 16s 26ms/step - loss: 0.1757 - accuracy: 0.9564\n",
            "Epoch 11/15\n",
            "600/600 [==============================] - 16s 27ms/step - loss: 0.1720 - accuracy: 0.9568\n",
            "Epoch 12/15\n",
            "600/600 [==============================] - 17s 28ms/step - loss: 0.1784 - accuracy: 0.9574\n",
            "Epoch 13/15\n",
            "600/600 [==============================] - 17s 28ms/step - loss: 0.1704 - accuracy: 0.9600\n",
            "Epoch 14/15\n",
            "600/600 [==============================] - 16s 27ms/step - loss: 0.1622 - accuracy: 0.9601\n",
            "Epoch 15/15\n",
            "600/600 [==============================] - 16s 27ms/step - loss: 0.1597 - accuracy: 0.9636\n"
          ]
        }
      ]
    },
    {
      "cell_type": "code",
      "source": [
        "# Predict the class labels for the test set.\n",
        "y_predicted = tf.model.predict(x_test)"
      ],
      "metadata": {
        "colab": {
          "base_uri": "https://localhost:8080/"
        },
        "id": "uSB3H0KzAhCl",
        "outputId": "8e6f984d-6e1a-4da7-fb5d-38d364bbe97f"
      },
      "execution_count": 11,
      "outputs": [
        {
          "output_type": "stream",
          "name": "stdout",
          "text": [
            "313/313 [==============================] - 2s 7ms/step\n"
          ]
        }
      ]
    },
    {
      "cell_type": "code",
      "source": [
        "# Print the actual and predicted labels for 10 random test samples.\n",
        "for x in range(0, 10):\n",
        "    random_index = random.randint(0, x_test.shape[0] - 1)\n",
        "    print(\"index: \", random_index,\n",
        "          \"actual y: \", np.argmax(y_test[random_index]),\n",
        "          \"predicted y: \", np.argmax(y_predicted[random_index]))"
      ],
      "metadata": {
        "colab": {
          "base_uri": "https://localhost:8080/"
        },
        "id": "_C4NnY1vAtog",
        "outputId": "18b48b78-3e99-41cc-877e-45212a55f7af"
      },
      "execution_count": 12,
      "outputs": [
        {
          "output_type": "stream",
          "name": "stdout",
          "text": [
            "index:  4420 actual y:  5 predicted y:  5\n",
            "index:  5507 actual y:  2 predicted y:  2\n",
            "index:  8809 actual y:  1 predicted y:  1\n",
            "index:  654 actual y:  5 predicted y:  5\n",
            "index:  7302 actual y:  8 predicted y:  8\n",
            "index:  8966 actual y:  2 predicted y:  2\n",
            "index:  6383 actual y:  0 predicted y:  0\n",
            "index:  9854 actual y:  8 predicted y:  8\n",
            "index:  4734 actual y:  2 predicted y:  2\n",
            "index:  1979 actual y:  9 predicted y:  9\n"
          ]
        }
      ]
    },
    {
      "cell_type": "code",
      "source": [
        "# Evaluate the model on the test set to determine the loss and accuracy.\n",
        "evaluation = tf.model.evaluate(x_test, y_test)\n",
        "print('loss: ', evaluation[0])\n",
        "print('accuracy', evaluation[1])"
      ],
      "metadata": {
        "colab": {
          "base_uri": "https://localhost:8080/"
        },
        "id": "ckfAvvDmAyIQ",
        "outputId": "6917f880-0af3-40b3-e725-c17b7b24cc96"
      },
      "execution_count": 13,
      "outputs": [
        {
          "output_type": "stream",
          "name": "stdout",
          "text": [
            "313/313 [==============================] - 2s 4ms/step - loss: 0.1217 - accuracy: 0.9716\n",
            "loss:  0.12168717384338379\n",
            "accuracy 0.9715999960899353\n"
          ]
        }
      ]
    },
    {
      "cell_type": "code",
      "source": [],
      "metadata": {
        "id": "7nTJEKWKAzYp"
      },
      "execution_count": 13,
      "outputs": []
    }
  ]
}
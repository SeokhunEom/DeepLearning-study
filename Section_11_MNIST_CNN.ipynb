{
  "nbformat": 4,
  "nbformat_minor": 0,
  "metadata": {
    "colab": {
      "provenance": [],
      "authorship_tag": "ABX9TyPs3wGCpEFRUTgOjXG/t1xl",
      "include_colab_link": true
    },
    "kernelspec": {
      "name": "python3",
      "display_name": "Python 3"
    },
    "language_info": {
      "name": "python"
    }
  },
  "cells": [
    {
      "cell_type": "markdown",
      "metadata": {
        "id": "view-in-github",
        "colab_type": "text"
      },
      "source": [
        "<a href=\"https://colab.research.google.com/github/SeokhunEom/DeepLearning-study/blob/main/Section_11_MNIST_CNN.ipynb\" target=\"_parent\"><img src=\"https://colab.research.google.com/assets/colab-badge.svg\" alt=\"Open In Colab\"/></a>"
      ]
    },
    {
      "cell_type": "code",
      "execution_count": 1,
      "metadata": {
        "id": "B4fdNXZdnbsh"
      },
      "outputs": [],
      "source": [
        "import numpy as np\n",
        "import tensorflow as tf\n",
        "import random"
      ]
    },
    {
      "cell_type": "code",
      "source": [
        "# Load the MNIST dataset using TensorFlow's Keras API.\n",
        "mnist = tf.keras.datasets.mnist\n",
        "\n",
        "# Split the dataset into training and testing sets.\n",
        "(x_train, y_train), (x_test, y_test) = mnist.load_data()\n",
        "\n",
        "# Normalize the images to a range of 0 to 1 by dividing by 255.\n",
        "x_test = x_test / 255\n",
        "x_train = x_train / 255\n",
        "\n",
        "# Reshape the images to include a channel dimension (28, 28, 1) for compatibility with Conv2D layers.\n",
        "x_train = x_train.reshape(x_train.shape[0], 28, 28, 1)\n",
        "x_test = x_test.reshape(x_test.shape[0], 28, 28, 1)\n",
        "\n",
        "# One-hot encode the labels for the training and testing datasets.\n",
        "y_train = tf.keras.utils.to_categorical(y_train, 10)\n",
        "y_test = tf.keras.utils.to_categorical(y_test, 10)"
      ],
      "metadata": {
        "colab": {
          "base_uri": "https://localhost:8080/"
        },
        "id": "pA51RLAXn6N7",
        "outputId": "e0433e77-b9fa-4527-e841-3c377d26a2cb"
      },
      "execution_count": 2,
      "outputs": [
        {
          "output_type": "stream",
          "name": "stdout",
          "text": [
            "Downloading data from https://storage.googleapis.com/tensorflow/tf-keras-datasets/mnist.npz\n",
            "11490434/11490434 [==============================] - 0s 0us/step\n"
          ]
        }
      ]
    },
    {
      "cell_type": "code",
      "source": [
        "# Set the hyperparameters for the model training.\n",
        "learning_rate = 0.001\n",
        "training_epochs = 12\n",
        "batch_size = 128"
      ],
      "metadata": {
        "id": "V4KpMzvNoBJD"
      },
      "execution_count": 3,
      "outputs": []
    },
    {
      "cell_type": "code",
      "source": [
        "# Initialize a sequential model using Keras API.\n",
        "tf.model = tf.keras.Sequential()\n",
        "\n",
        "# Add the first convolutional layer with 16 filters, a kernel size of 3x3, ReLU activation, and input shape of (28, 28, 1).\n",
        "tf.model.add(tf.keras.layers.Conv2D(filters=16, kernel_size=(3, 3), input_shape=(28, 28, 1), activation='relu'))\n",
        "\n",
        "# Add a max pooling layer with a pool size of 2x2 to down-sample the input.\n",
        "tf.model.add(tf.keras.layers.MaxPooling2D(pool_size=(2, 2)))\n",
        "\n",
        "# Add the second convolutional layer with 32 filters, a kernel size of 3x3, and ReLU activation.\n",
        "tf.model.add(tf.keras.layers.Conv2D(filters=32, kernel_size=(3, 3), activation='relu'))\n",
        "\n",
        "# Add another max pooling layer with a pool size of 2x2.\n",
        "tf.model.add(tf.keras.layers.MaxPooling2D(pool_size=(2, 2)))\n",
        "\n",
        "# Flatten the output from the convolutional layers to feed it into the dense (fully connected) layer.\n",
        "tf.model.add(tf.keras.layers.Flatten())\n",
        "\n",
        "# Add a dense (fully connected) layer with 10 units (for the 10 classes) and softmax activation for classification.\n",
        "tf.model.add(tf.keras.layers.Dense(units=10, kernel_initializer='glorot_normal', activation='softmax'))"
      ],
      "metadata": {
        "id": "8czZv7V2oDiv"
      },
      "execution_count": 4,
      "outputs": []
    },
    {
      "cell_type": "code",
      "source": [
        "# Compile the model with categorical crossentropy loss, Adam optimizer with the specified learning rate, and accuracy as a metric.\n",
        "tf.model.compile(loss='categorical_crossentropy', optimizer=tf.keras.optimizers.Adam(learning_rate=learning_rate), metrics=['accuracy'])\n",
        "\n",
        "# Print a summary of the model architecture.\n",
        "tf.model.summary()\n",
        "\n",
        "# Train the model using the training data, with the specified batch size and number of epochs.\n",
        "tf.model.fit(x_train, y_train, batch_size=batch_size, epochs=training_epochs)"
      ],
      "metadata": {
        "colab": {
          "base_uri": "https://localhost:8080/"
        },
        "id": "k4b_JlEGoGQ1",
        "outputId": "df81d7f6-3d38-4a29-cb0d-025530104f9c"
      },
      "execution_count": 5,
      "outputs": [
        {
          "output_type": "stream",
          "name": "stderr",
          "text": [
            "WARNING:absl:`lr` is deprecated in Keras optimizer, please use `learning_rate` or use the legacy optimizer, e.g.,tf.keras.optimizers.legacy.Adam.\n"
          ]
        },
        {
          "output_type": "stream",
          "name": "stdout",
          "text": [
            "Model: \"sequential\"\n",
            "_________________________________________________________________\n",
            " Layer (type)                Output Shape              Param #   \n",
            "=================================================================\n",
            " conv2d (Conv2D)             (None, 26, 26, 16)        160       \n",
            "                                                                 \n",
            " max_pooling2d (MaxPooling2  (None, 13, 13, 16)        0         \n",
            " D)                                                              \n",
            "                                                                 \n",
            " conv2d_1 (Conv2D)           (None, 11, 11, 32)        4640      \n",
            "                                                                 \n",
            " max_pooling2d_1 (MaxPoolin  (None, 5, 5, 32)          0         \n",
            " g2D)                                                            \n",
            "                                                                 \n",
            " flatten (Flatten)           (None, 800)               0         \n",
            "                                                                 \n",
            " dense (Dense)               (None, 10)                8010      \n",
            "                                                                 \n",
            "=================================================================\n",
            "Total params: 12810 (50.04 KB)\n",
            "Trainable params: 12810 (50.04 KB)\n",
            "Non-trainable params: 0 (0.00 Byte)\n",
            "_________________________________________________________________\n",
            "Epoch 1/12\n",
            "469/469 [==============================] - 25s 50ms/step - loss: 0.3791 - accuracy: 0.8927\n",
            "Epoch 2/12\n",
            "469/469 [==============================] - 21s 45ms/step - loss: 0.1026 - accuracy: 0.9688\n",
            "Epoch 3/12\n",
            "469/469 [==============================] - 21s 45ms/step - loss: 0.0761 - accuracy: 0.9768\n",
            "Epoch 4/12\n",
            "469/469 [==============================] - 22s 47ms/step - loss: 0.0640 - accuracy: 0.9801\n",
            "Epoch 5/12\n",
            "469/469 [==============================] - 20s 42ms/step - loss: 0.0559 - accuracy: 0.9829\n",
            "Epoch 6/12\n",
            "469/469 [==============================] - 21s 46ms/step - loss: 0.0491 - accuracy: 0.9849\n",
            "Epoch 7/12\n",
            "469/469 [==============================] - 20s 43ms/step - loss: 0.0434 - accuracy: 0.9865\n",
            "Epoch 8/12\n",
            "469/469 [==============================] - 21s 44ms/step - loss: 0.0394 - accuracy: 0.9877\n",
            "Epoch 9/12\n",
            "469/469 [==============================] - 19s 41ms/step - loss: 0.0361 - accuracy: 0.9889\n",
            "Epoch 10/12\n",
            "469/469 [==============================] - 20s 43ms/step - loss: 0.0341 - accuracy: 0.9891\n",
            "Epoch 11/12\n",
            "469/469 [==============================] - 19s 40ms/step - loss: 0.0304 - accuracy: 0.9905\n",
            "Epoch 12/12\n",
            "469/469 [==============================] - 20s 43ms/step - loss: 0.0288 - accuracy: 0.9913\n"
          ]
        },
        {
          "output_type": "execute_result",
          "data": {
            "text/plain": [
              "<keras.src.callbacks.History at 0x7e4b0c9eded0>"
            ]
          },
          "metadata": {},
          "execution_count": 5
        }
      ]
    },
    {
      "cell_type": "code",
      "source": [
        "# Predict the labels for the test dataset.\n",
        "y_predicted = tf.model.predict(x_test)\n",
        "\n",
        "# Print the actual and predicted labels for 10 random samples from the test dataset.\n",
        "for x in range(0, 10):\n",
        "    random_index = random.randint(0, x_test.shape[0]-1)\n",
        "    print(\"index: \", random_index,\n",
        "          \"actual y: \", np.argmax(y_test[random_index]),\n",
        "          \"predicted y: \", np.argmax(y_predicted[random_index]))"
      ],
      "metadata": {
        "colab": {
          "base_uri": "https://localhost:8080/"
        },
        "id": "AE8Kchc-oJJG",
        "outputId": "6f081987-1c07-4d90-a193-788fa78967d3"
      },
      "execution_count": 6,
      "outputs": [
        {
          "output_type": "stream",
          "name": "stdout",
          "text": [
            "313/313 [==============================] - 1s 4ms/step\n",
            "index:  3710 actual y:  0 predicted y:  0\n",
            "index:  4836 actual y:  3 predicted y:  3\n",
            "index:  2645 actual y:  4 predicted y:  4\n",
            "index:  3821 actual y:  9 predicted y:  9\n",
            "index:  3189 actual y:  7 predicted y:  7\n",
            "index:  8137 actual y:  0 predicted y:  0\n",
            "index:  9320 actual y:  4 predicted y:  4\n",
            "index:  4029 actual y:  4 predicted y:  4\n",
            "index:  3239 actual y:  2 predicted y:  2\n",
            "index:  3745 actual y:  1 predicted y:  1\n"
          ]
        }
      ]
    },
    {
      "cell_type": "code",
      "source": [
        "# Evaluate the model on the test dataset and print the loss and accuracy.\n",
        "evaluation = tf.model.evaluate(x_test, y_test)\n",
        "print('loss: ', evaluation[0])\n",
        "print('accuracy', evaluation[1])"
      ],
      "metadata": {
        "colab": {
          "base_uri": "https://localhost:8080/"
        },
        "id": "xKxkQPaRoQed",
        "outputId": "a4adeaf7-04aa-4e14-ed22-c43712fb296e"
      },
      "execution_count": 7,
      "outputs": [
        {
          "output_type": "stream",
          "name": "stdout",
          "text": [
            "313/313 [==============================] - 2s 4ms/step - loss: 0.0428 - accuracy: 0.9851\n",
            "loss:  0.042773839086294174\n",
            "accuracy 0.9850999712944031\n"
          ]
        }
      ]
    },
    {
      "cell_type": "code",
      "source": [
        "# Migrate from TensorFlow 1.x to TensorFlow 2 by ChatGPT\n",
        "\n",
        "import tensorflow as tf\n",
        "import random\n",
        "import numpy as np\n",
        "from tensorflow.keras import layers, models, datasets\n",
        "\n",
        "# Set random seed for reproducibility\n",
        "tf.random.set_seed(777)\n",
        "\n",
        "# Load MNIST dataset using Keras datasets API\n",
        "mnist = datasets.mnist\n",
        "(x_train, y_train), (x_test, y_test) = mnist.load_data()\n",
        "\n",
        "# Normalize the input data to be in the range [0, 1]\n",
        "x_train = x_train / 255.0\n",
        "x_test = x_test / 255.0\n",
        "\n",
        "# Reshape the data to add a channel dimension for the Conv2D layers\n",
        "x_train = x_train.reshape(-1, 28, 28, 1)\n",
        "x_test = x_test.reshape(-1, 28, 28, 1)\n",
        "\n",
        "# One-hot encode the labels using Keras utility\n",
        "y_train = tf.keras.utils.to_categorical(y_train, 10)\n",
        "y_test = tf.keras.utils.to_categorical(y_test, 10)\n",
        "\n",
        "# Define hyperparameters\n",
        "learning_rate = 0.001\n",
        "training_epochs = 15\n",
        "batch_size = 100\n",
        "\n",
        "# Define a Keras Sequential model\n",
        "model = models.Sequential()\n",
        "\n",
        "# L1: Add the first Conv2D layer followed by ReLU activation and MaxPooling\n",
        "model.add(layers.Conv2D(32, kernel_size=(3, 3), activation='relu', input_shape=(28, 28, 1)))\n",
        "model.add(layers.MaxPooling2D(pool_size=(2, 2)))\n",
        "model.add(layers.Dropout(0.3))\n",
        "\n",
        "# L2: Add the second Conv2D layer followed by ReLU activation and MaxPooling\n",
        "model.add(layers.Conv2D(64, kernel_size=(3, 3), activation='relu'))\n",
        "model.add(layers.MaxPooling2D(pool_size=(2, 2)))\n",
        "model.add(layers.Dropout(0.3))\n",
        "\n",
        "# L3: Add the third Conv2D layer followed by ReLU activation and MaxPooling, then flatten the output\n",
        "model.add(layers.Conv2D(128, kernel_size=(3, 3), activation='relu'))\n",
        "model.add(layers.MaxPooling2D(pool_size=(2, 2)))\n",
        "model.add(layers.Dropout(0.3))\n",
        "model.add(layers.Flatten())\n",
        "\n",
        "# L4: Add a fully connected (Dense) layer with 625 units\n",
        "model.add(layers.Dense(625, activation='relu'))\n",
        "model.add(layers.Dropout(0.3))\n",
        "\n",
        "# L5: Add the final output layer with 10 units (for 10 classes) and softmax activation\n",
        "model.add(layers.Dense(10, activation='softmax'))\n",
        "\n",
        "# Compile the model with categorical crossentropy loss, Adam optimizer, and accuracy metric\n",
        "model.compile(optimizer=tf.keras.optimizers.Adam(learning_rate=learning_rate),\n",
        "              loss='categorical_crossentropy',\n",
        "              metrics=['accuracy'])\n",
        "\n",
        "# Display the model architecture\n",
        "model.summary()\n",
        "\n",
        "# Train the model using the training data\n",
        "model.fit(x_train, y_train, epochs=training_epochs, batch_size=batch_size)\n",
        "\n",
        "# Evaluate the model on the test data\n",
        "loss, accuracy = model.evaluate(x_test, y_test)\n",
        "print(f'Loss: {loss:.4f}')\n",
        "print(f'Accuracy: {accuracy:.4f}')\n",
        "\n",
        "# Predict and display results for 10 random test samples\n",
        "y_pred = model.predict(x_test)\n",
        "for _ in range(10):\n",
        "    random_index = random.randint(0, x_test.shape[0] - 1)\n",
        "    print(f'Index: {random_index}, Actual: {np.argmax(y_test[random_index])}, Predicted: {np.argmax(y_pred[random_index])}')\n",
        "\n",
        "# Function to evaluate the model on a given dataset\n",
        "def evaluate(x_sample, y_sample, batch_size=512):\n",
        "    N = x_sample.shape[0]\n",
        "    correct_sample = 0\n",
        "\n",
        "    for i in range(0, N, batch_size):\n",
        "        x_batch = x_sample[i:i + batch_size]\n",
        "        y_batch = y_sample[i:i + batch_size]\n",
        "        N_batch = x_batch.shape[0]\n",
        "\n",
        "        correct_sample += model.evaluate(x_batch, y_batch, verbose=0)[1] * N_batch\n",
        "\n",
        "    return correct_sample / N\n",
        "\n",
        "# Evaluate and print accuracy for training and test datasets\n",
        "print(\"\\nAccuracy Evaluates\")\n",
        "print(\"-------------------------------\")\n",
        "print('Train Accuracy:', evaluate(x_train, y_train))\n",
        "print('Test Accuracy:', evaluate(x_test, y_test))\n",
        "\n",
        "# Get one random test sample and predict its label\n",
        "print(\"\\nGet one and predict\")\n",
        "print(\"-------------------------------\")\n",
        "r = random.randint(0, x_test.shape[0] - 1)\n",
        "print(f'Label: {np.argmax(y_test[r:r + 1])}')\n",
        "print(f'Prediction: {np.argmax(model.predict(x_test[r:r + 1]))}')\n"
      ],
      "metadata": {
        "colab": {
          "base_uri": "https://localhost:8080/"
        },
        "id": "K5k5FrGFoQvA",
        "outputId": "436afa78-2dab-43e2-e91e-361e1e4c40d8"
      },
      "execution_count": 8,
      "outputs": [
        {
          "output_type": "stream",
          "name": "stdout",
          "text": [
            "Model: \"sequential_1\"\n",
            "_________________________________________________________________\n",
            " Layer (type)                Output Shape              Param #   \n",
            "=================================================================\n",
            " conv2d_2 (Conv2D)           (None, 26, 26, 32)        320       \n",
            "                                                                 \n",
            " max_pooling2d_2 (MaxPoolin  (None, 13, 13, 32)        0         \n",
            " g2D)                                                            \n",
            "                                                                 \n",
            " dropout (Dropout)           (None, 13, 13, 32)        0         \n",
            "                                                                 \n",
            " conv2d_3 (Conv2D)           (None, 11, 11, 64)        18496     \n",
            "                                                                 \n",
            " max_pooling2d_3 (MaxPoolin  (None, 5, 5, 64)          0         \n",
            " g2D)                                                            \n",
            "                                                                 \n",
            " dropout_1 (Dropout)         (None, 5, 5, 64)          0         \n",
            "                                                                 \n",
            " conv2d_4 (Conv2D)           (None, 3, 3, 128)         73856     \n",
            "                                                                 \n",
            " max_pooling2d_4 (MaxPoolin  (None, 1, 1, 128)         0         \n",
            " g2D)                                                            \n",
            "                                                                 \n",
            " dropout_2 (Dropout)         (None, 1, 1, 128)         0         \n",
            "                                                                 \n",
            " flatten_1 (Flatten)         (None, 128)               0         \n",
            "                                                                 \n",
            " dense_1 (Dense)             (None, 625)               80625     \n",
            "                                                                 \n",
            " dropout_3 (Dropout)         (None, 625)               0         \n",
            "                                                                 \n",
            " dense_2 (Dense)             (None, 10)                6260      \n",
            "                                                                 \n",
            "=================================================================\n",
            "Total params: 179557 (701.39 KB)\n",
            "Trainable params: 179557 (701.39 KB)\n",
            "Non-trainable params: 0 (0.00 Byte)\n",
            "_________________________________________________________________\n",
            "Epoch 1/15\n",
            "600/600 [==============================] - 50s 80ms/step - loss: 0.4433 - accuracy: 0.8544\n",
            "Epoch 2/15\n",
            "600/600 [==============================] - 48s 81ms/step - loss: 0.1525 - accuracy: 0.9527\n",
            "Epoch 3/15\n",
            "600/600 [==============================] - 47s 78ms/step - loss: 0.1171 - accuracy: 0.9640\n",
            "Epoch 4/15\n",
            "600/600 [==============================] - 51s 84ms/step - loss: 0.0959 - accuracy: 0.9708\n",
            "Epoch 5/15\n",
            "600/600 [==============================] - 49s 81ms/step - loss: 0.0892 - accuracy: 0.9733\n",
            "Epoch 6/15\n",
            "600/600 [==============================] - 47s 79ms/step - loss: 0.0784 - accuracy: 0.9768\n",
            "Epoch 7/15\n",
            "600/600 [==============================] - 48s 80ms/step - loss: 0.0723 - accuracy: 0.9778\n",
            "Epoch 8/15\n",
            "600/600 [==============================] - 48s 80ms/step - loss: 0.0706 - accuracy: 0.9779\n",
            "Epoch 9/15\n",
            "600/600 [==============================] - 47s 78ms/step - loss: 0.0661 - accuracy: 0.9793\n",
            "Epoch 10/15\n",
            "600/600 [==============================] - 48s 80ms/step - loss: 0.0629 - accuracy: 0.9802\n",
            "Epoch 11/15\n",
            "600/600 [==============================] - 47s 78ms/step - loss: 0.0575 - accuracy: 0.9823\n",
            "Epoch 12/15\n",
            "600/600 [==============================] - 48s 80ms/step - loss: 0.0572 - accuracy: 0.9828\n",
            "Epoch 13/15\n",
            "600/600 [==============================] - 48s 80ms/step - loss: 0.0557 - accuracy: 0.9827\n",
            "Epoch 14/15\n",
            "600/600 [==============================] - 47s 78ms/step - loss: 0.0549 - accuracy: 0.9824\n",
            "Epoch 15/15\n",
            "600/600 [==============================] - 48s 81ms/step - loss: 0.0502 - accuracy: 0.9840\n",
            "313/313 [==============================] - 3s 8ms/step - loss: 0.0320 - accuracy: 0.9907\n",
            "Loss: 0.0320\n",
            "Accuracy: 0.9907\n",
            "313/313 [==============================] - 3s 8ms/step\n",
            "Index: 725, Actual: 1, Predicted: 1\n",
            "Index: 8101, Actual: 9, Predicted: 9\n",
            "Index: 8833, Actual: 7, Predicted: 7\n",
            "Index: 6856, Actual: 7, Predicted: 7\n",
            "Index: 1292, Actual: 6, Predicted: 6\n",
            "Index: 825, Actual: 7, Predicted: 7\n",
            "Index: 2898, Actual: 4, Predicted: 4\n",
            "Index: 7897, Actual: 6, Predicted: 6\n",
            "Index: 8714, Actual: 2, Predicted: 2\n",
            "Index: 3398, Actual: 6, Predicted: 6\n",
            "\n",
            "Accuracy Evaluates\n",
            "-------------------------------\n",
            "Train Accuracy: 0.9962499999682108\n",
            "Test Accuracy: 0.9906999994277954\n",
            "\n",
            "Get one and predict\n",
            "-------------------------------\n",
            "Label: 7\n",
            "1/1 [==============================] - 0s 23ms/step\n",
            "Prediction: 7\n"
          ]
        }
      ]
    },
    {
      "cell_type": "code",
      "source": [],
      "metadata": {
        "id": "XwoXDI5EpNKT"
      },
      "execution_count": null,
      "outputs": []
    }
  ]
}
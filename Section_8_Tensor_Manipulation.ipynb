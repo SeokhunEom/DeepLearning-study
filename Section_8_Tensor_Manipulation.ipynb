{
  "nbformat": 4,
  "nbformat_minor": 0,
  "metadata": {
    "colab": {
      "provenance": [],
      "authorship_tag": "ABX9TyOaGh+7EgzFyRkIpG96WNUv",
      "include_colab_link": true
    },
    "kernelspec": {
      "name": "python3",
      "display_name": "Python 3"
    },
    "language_info": {
      "name": "python"
    }
  },
  "cells": [
    {
      "cell_type": "markdown",
      "metadata": {
        "id": "view-in-github",
        "colab_type": "text"
      },
      "source": [
        "<a href=\"https://colab.research.google.com/github/SeokhunEom/DeepLearning-study/blob/main/Section_8_Tensor_Manipulation.ipynb\" target=\"_parent\"><img src=\"https://colab.research.google.com/assets/colab-badge.svg\" alt=\"Open In Colab\"/></a>"
      ]
    },
    {
      "cell_type": "code",
      "execution_count": 1,
      "metadata": {
        "id": "6qFHTo_bU-CU"
      },
      "outputs": [],
      "source": [
        "# Migrate from TensorFlow 1.x to TensorFlow 2 by ChatGPT\n",
        "import tensorflow as tf\n",
        "import numpy as np\n",
        "import pprint"
      ]
    },
    {
      "cell_type": "code",
      "source": [
        "# Setting the seed for reproducibility\n",
        "tf.random.set_seed(777)\n",
        "\n",
        "# Pretty printer for displaying the numpy arrays\n",
        "pp = pprint.PrettyPrinter(indent=4)"
      ],
      "metadata": {
        "id": "5GRrWVuWYHz5"
      },
      "execution_count": 2,
      "outputs": []
    },
    {
      "cell_type": "code",
      "source": [
        "# TensorFlow 2.x uses eager execution by default, so no need for tf.InteractiveSession()\n",
        "\n",
        "# Creating a numpy array\n",
        "t = np.array([0., 1., 2., 3., 4., 5., 6.])\n",
        "pp.pprint(t)  # Pretty print the array\n",
        "print(t.ndim)  # Print the number of dimensions (rank) of the array\n",
        "print(t.shape)  # Print the shape of the array\n",
        "print(t[0], t[1], t[-1])  # Accessing elements by index\n",
        "print(t[2:5], t[4:-1])  # Slicing the array\n",
        "print(t[:2], t[3:])  # Slicing the array"
      ],
      "metadata": {
        "colab": {
          "base_uri": "https://localhost:8080/"
        },
        "id": "WGRnSlfpYJei",
        "outputId": "e54f0c66-f5dd-40ac-d6f1-399b1b61ebe6"
      },
      "execution_count": 3,
      "outputs": [
        {
          "output_type": "stream",
          "name": "stdout",
          "text": [
            "array([0., 1., 2., 3., 4., 5., 6.])\n",
            "1\n",
            "(7,)\n",
            "0.0 1.0 6.0\n",
            "[2. 3. 4.] [4. 5.]\n",
            "[0. 1.] [3. 4. 5. 6.]\n"
          ]
        }
      ]
    },
    {
      "cell_type": "code",
      "source": [
        "# Creating a 2D numpy array\n",
        "t = np.array([[1., 2., 3.], [4., 5., 6.], [7., 8., 9.], [10., 11., 12.]])\n",
        "pp.pprint(t)\n",
        "print(t.ndim)  # Print the number of dimensions (rank)\n",
        "print(t.shape)  # Print the shape"
      ],
      "metadata": {
        "colab": {
          "base_uri": "https://localhost:8080/"
        },
        "id": "iYjc8fNYYRla",
        "outputId": "9ed464f2-00a7-487b-ea0e-1a682b1f5fa6"
      },
      "execution_count": 4,
      "outputs": [
        {
          "output_type": "stream",
          "name": "stdout",
          "text": [
            "array([[ 1.,  2.,  3.],\n",
            "       [ 4.,  5.,  6.],\n",
            "       [ 7.,  8.,  9.],\n",
            "       [10., 11., 12.]])\n",
            "2\n",
            "(4, 3)\n"
          ]
        }
      ]
    },
    {
      "cell_type": "code",
      "source": [
        "# Creating TensorFlow constants\n",
        "t = tf.constant([1, 2, 3, 4])\n",
        "print(tf.shape(t))  # Print the shape of the tensor"
      ],
      "metadata": {
        "colab": {
          "base_uri": "https://localhost:8080/"
        },
        "id": "mrMiCkuXYVVA",
        "outputId": "8f9c20f1-dc17-4d9f-de63-6cddd9091be4"
      },
      "execution_count": 5,
      "outputs": [
        {
          "output_type": "stream",
          "name": "stdout",
          "text": [
            "tf.Tensor([4], shape=(1,), dtype=int32)\n"
          ]
        }
      ]
    },
    {
      "cell_type": "code",
      "source": [
        "t = tf.constant([[1, 2],\n",
        "                 [3, 4]])\n",
        "print(tf.shape(t))  # Print the shape of the tensor"
      ],
      "metadata": {
        "colab": {
          "base_uri": "https://localhost:8080/"
        },
        "id": "bCLNCoUEYX1m",
        "outputId": "01258408-9757-4932-cd7f-bb8b6ce23ed8"
      },
      "execution_count": 6,
      "outputs": [
        {
          "output_type": "stream",
          "name": "stdout",
          "text": [
            "tf.Tensor([2 2], shape=(2,), dtype=int32)\n"
          ]
        }
      ]
    },
    {
      "cell_type": "code",
      "source": [
        "t = tf.constant([[[[1, 2, 3, 4], [5, 6, 7, 8], [9, 10, 11, 12]],\n",
        "                  [[13, 14, 15, 16], [17, 18, 19, 20], [21, 22, 23, 24]]]])\n",
        "print(tf.shape(t))  # Print the shape of the tensor"
      ],
      "metadata": {
        "colab": {
          "base_uri": "https://localhost:8080/"
        },
        "id": "jPair8EXYZam",
        "outputId": "b2711b30-39eb-4651-d0e7-ef534e009f8b"
      },
      "execution_count": 7,
      "outputs": [
        {
          "output_type": "stream",
          "name": "stdout",
          "text": [
            "tf.Tensor([1 2 3 4], shape=(4,), dtype=int32)\n"
          ]
        }
      ]
    },
    {
      "cell_type": "code",
      "source": [
        "# Creating a nested list structure\n",
        "nested_list = [\n",
        "    [\n",
        "        [\n",
        "            [1, 2, 3, 4],\n",
        "            [5, 6, 7, 8],\n",
        "            [9, 10, 11, 12]\n",
        "        ],\n",
        "        [\n",
        "            [13, 14, 15, 16],\n",
        "            [17, 18, 19, 20],\n",
        "            [21, 22, 23, 24]\n",
        "        ]\n",
        "    ]\n",
        "]"
      ],
      "metadata": {
        "id": "jA66vmfcYbOS"
      },
      "execution_count": 8,
      "outputs": []
    },
    {
      "cell_type": "code",
      "source": [
        "# Matrix multiplication\n",
        "matrix1 = tf.constant([[3., 3.]])\n",
        "matrix2 = tf.constant([[2.], [2.]])\n",
        "print(tf.linalg.matmul(matrix1, matrix2))  # Matrix multiplication"
      ],
      "metadata": {
        "colab": {
          "base_uri": "https://localhost:8080/"
        },
        "id": "YgNKozRqYc4O",
        "outputId": "7e03ea13-1bfd-4bcf-dbdb-a9e865f8c7a2"
      },
      "execution_count": 9,
      "outputs": [
        {
          "output_type": "stream",
          "name": "stdout",
          "text": [
            "tf.Tensor([[12.]], shape=(1, 1), dtype=float32)\n"
          ]
        }
      ]
    },
    {
      "cell_type": "code",
      "source": [
        "# Element-wise multiplication\n",
        "print(matrix1 * matrix2)"
      ],
      "metadata": {
        "colab": {
          "base_uri": "https://localhost:8080/"
        },
        "id": "VqlULbMdYe8T",
        "outputId": "534dd93b-2c20-42a0-c9d7-abc3d37ca4a6"
      },
      "execution_count": 10,
      "outputs": [
        {
          "output_type": "stream",
          "name": "stdout",
          "text": [
            "tf.Tensor(\n",
            "[[6. 6.]\n",
            " [6. 6.]], shape=(2, 2), dtype=float32)\n"
          ]
        }
      ]
    },
    {
      "cell_type": "code",
      "source": [
        "# Addition of matrices\n",
        "matrix1 = tf.constant([[3., 3.]])\n",
        "matrix2 = tf.constant([[2.], [2.]])\n",
        "print(matrix1 + matrix2)\n",
        "\n",
        "matrix1 = tf.constant([[3., 3.]])\n",
        "matrix2 = tf.constant([[2., 2.]])\n",
        "print(matrix1 + matrix2)"
      ],
      "metadata": {
        "colab": {
          "base_uri": "https://localhost:8080/"
        },
        "id": "w5Z9_tmrYgmf",
        "outputId": "91a9d140-b950-468f-bcc8-35dd6c0ca1f8"
      },
      "execution_count": 11,
      "outputs": [
        {
          "output_type": "stream",
          "name": "stdout",
          "text": [
            "tf.Tensor(\n",
            "[[5. 5.]\n",
            " [5. 5.]], shape=(2, 2), dtype=float32)\n",
            "tf.Tensor([[5. 5.]], shape=(1, 2), dtype=float32)\n"
          ]
        }
      ]
    },
    {
      "cell_type": "code",
      "source": [
        "# Generating random numbers\n",
        "print(tf.random.normal([3]))  # Random normal distribution\n",
        "print(tf.random.uniform([2]))  # Random uniform distribution\n",
        "print(tf.random.uniform([2, 3]))  # Random uniform distribution with shape [2, 3]"
      ],
      "metadata": {
        "colab": {
          "base_uri": "https://localhost:8080/"
        },
        "id": "s-ouzxbSYkxb",
        "outputId": "c76a0c63-e1b9-48c8-9862-31898c0c5107"
      },
      "execution_count": 12,
      "outputs": [
        {
          "output_type": "stream",
          "name": "stdout",
          "text": [
            "tf.Tensor([ 0.7706481   0.37335402 -0.05576323], shape=(3,), dtype=float32)\n",
            "tf.Tensor([0.42134905 0.7339295 ], shape=(2,), dtype=float32)\n",
            "tf.Tensor(\n",
            "[[0.909613   0.34968376 0.39626384]\n",
            " [0.6574153  0.60619414 0.70691717]], shape=(2, 3), dtype=float32)\n"
          ]
        }
      ]
    },
    {
      "cell_type": "code",
      "source": [
        "# Reductions\n",
        "print(tf.reduce_mean([1, 2], axis=0))  # Mean reduction\n",
        "x = [[1., 2.],\n",
        "     [3., 4.]]\n",
        "print(tf.reduce_mean(x))  # Mean of all elements\n",
        "print(tf.reduce_mean(x, axis=0))  # Mean along the first axis\n",
        "print(tf.reduce_mean(x, axis=1))  # Mean along the second axis\n",
        "print(tf.reduce_mean(x, axis=-1))  # Mean along the last axis\n",
        "print(tf.reduce_sum(x))  # Sum of all elements\n",
        "print(tf.reduce_sum(x, axis=0))  # Sum along the first axis\n",
        "print(tf.reduce_sum(x, axis=-1))  # Sum along the last axis\n",
        "print(tf.reduce_mean(tf.reduce_sum(x, axis=-1)))  # Mean of the sums along the last axis"
      ],
      "metadata": {
        "colab": {
          "base_uri": "https://localhost:8080/"
        },
        "id": "sjQBhJ07Ym99",
        "outputId": "ad37674e-e580-403f-9dcf-3e0eeb7066f4"
      },
      "execution_count": 13,
      "outputs": [
        {
          "output_type": "stream",
          "name": "stdout",
          "text": [
            "tf.Tensor(1, shape=(), dtype=int32)\n",
            "tf.Tensor(2.5, shape=(), dtype=float32)\n",
            "tf.Tensor([2. 3.], shape=(2,), dtype=float32)\n",
            "tf.Tensor([1.5 3.5], shape=(2,), dtype=float32)\n",
            "tf.Tensor([1.5 3.5], shape=(2,), dtype=float32)\n",
            "tf.Tensor(10.0, shape=(), dtype=float32)\n",
            "tf.Tensor([4. 6.], shape=(2,), dtype=float32)\n",
            "tf.Tensor([3. 7.], shape=(2,), dtype=float32)\n",
            "tf.Tensor(5.0, shape=(), dtype=float32)\n"
          ]
        }
      ]
    },
    {
      "cell_type": "code",
      "source": [
        "# Argmax\n",
        "x = [[0, 1, 2],\n",
        "     [2, 1, 0]]\n",
        "print(tf.argmax(x, axis=0))  # Argmax along the first axis\n",
        "print(tf.argmax(x, axis=1))  # Argmax along the second axis\n",
        "print(tf.argmax(x, axis=-1))  # Argmax along the last axis"
      ],
      "metadata": {
        "colab": {
          "base_uri": "https://localhost:8080/"
        },
        "id": "swA1R6f9YpOD",
        "outputId": "3054c47a-d42e-48d1-e852-5bd8c4b45065"
      },
      "execution_count": 14,
      "outputs": [
        {
          "output_type": "stream",
          "name": "stdout",
          "text": [
            "tf.Tensor([1 0 0], shape=(3,), dtype=int64)\n",
            "tf.Tensor([2 0], shape=(2,), dtype=int64)\n",
            "tf.Tensor([2 0], shape=(2,), dtype=int64)\n"
          ]
        }
      ]
    },
    {
      "cell_type": "code",
      "source": [
        "# Reshaping tensors\n",
        "t = np.array([[[0, 1, 2],\n",
        "               [3, 4, 5]],\n",
        "              [[6, 7, 8],\n",
        "               [9, 10, 11]]])\n",
        "print(t.shape)  # Shape of the numpy array\n",
        "print(tf.reshape(t, shape=[-1, 3]))  # Reshape to a different shape\n",
        "print(tf.reshape(t, shape=[-1, 1, 3]))  # Reshape to a different shape"
      ],
      "metadata": {
        "colab": {
          "base_uri": "https://localhost:8080/"
        },
        "id": "hrsLkd5gYqvc",
        "outputId": "e67b3b4c-6612-441e-9d61-858477099c17"
      },
      "execution_count": 15,
      "outputs": [
        {
          "output_type": "stream",
          "name": "stdout",
          "text": [
            "(2, 2, 3)\n",
            "tf.Tensor(\n",
            "[[ 0  1  2]\n",
            " [ 3  4  5]\n",
            " [ 6  7  8]\n",
            " [ 9 10 11]], shape=(4, 3), dtype=int64)\n",
            "tf.Tensor(\n",
            "[[[ 0  1  2]]\n",
            "\n",
            " [[ 3  4  5]]\n",
            "\n",
            " [[ 6  7  8]]\n",
            "\n",
            " [[ 9 10 11]]], shape=(4, 1, 3), dtype=int64)\n"
          ]
        }
      ]
    },
    {
      "cell_type": "code",
      "source": [
        "# Squeezing and expanding dimensions\n",
        "print(tf.squeeze([[0], [1], [2]]))  # Remove dimensions of size 1\n",
        "print(tf.expand_dims([0, 1, 2], 1))  # Add a dimension"
      ],
      "metadata": {
        "colab": {
          "base_uri": "https://localhost:8080/"
        },
        "id": "9J3kZNx0YsLV",
        "outputId": "77e8164a-60e4-49bb-e254-2b2ad9735f2a"
      },
      "execution_count": 16,
      "outputs": [
        {
          "output_type": "stream",
          "name": "stdout",
          "text": [
            "tf.Tensor([0 1 2], shape=(3,), dtype=int32)\n",
            "tf.Tensor(\n",
            "[[0]\n",
            " [1]\n",
            " [2]], shape=(3, 1), dtype=int32)\n"
          ]
        }
      ]
    },
    {
      "cell_type": "code",
      "source": [
        "# One-hot encoding\n",
        "print(tf.one_hot([[0], [1], [2], [0]], depth=3))  # One-hot encode with a specified depth\n",
        "t = tf.one_hot([[0], [1], [2], [0]], depth=3)\n",
        "print(tf.reshape(t, shape=[-1, 3]))  # Reshape the one-hot encoded tensor"
      ],
      "metadata": {
        "colab": {
          "base_uri": "https://localhost:8080/"
        },
        "id": "hUslrdDqYuKq",
        "outputId": "23734b66-acd3-41ed-93c7-4a584abe96c4"
      },
      "execution_count": 17,
      "outputs": [
        {
          "output_type": "stream",
          "name": "stdout",
          "text": [
            "tf.Tensor(\n",
            "[[[1. 0. 0.]]\n",
            "\n",
            " [[0. 1. 0.]]\n",
            "\n",
            " [[0. 0. 1.]]\n",
            "\n",
            " [[1. 0. 0.]]], shape=(4, 1, 3), dtype=float32)\n",
            "tf.Tensor(\n",
            "[[1. 0. 0.]\n",
            " [0. 1. 0.]\n",
            " [0. 0. 1.]\n",
            " [1. 0. 0.]], shape=(4, 3), dtype=float32)\n"
          ]
        }
      ]
    },
    {
      "cell_type": "code",
      "source": [
        "# Casting types\n",
        "print(tf.cast([1.8, 2.2, 3.3, 4.9], tf.int32))  # Cast to int32\n",
        "print(tf.cast([True, False, 1 == 1, 0 == 1], tf.int32))  # Cast boolean to int32"
      ],
      "metadata": {
        "colab": {
          "base_uri": "https://localhost:8080/"
        },
        "id": "KjYYHIQFYvgT",
        "outputId": "02955657-2558-4a64-a680-6cdb5bfff679"
      },
      "execution_count": 18,
      "outputs": [
        {
          "output_type": "stream",
          "name": "stdout",
          "text": [
            "tf.Tensor([1 2 3 4], shape=(4,), dtype=int32)\n",
            "tf.Tensor([1 0 1 0], shape=(4,), dtype=int32)\n"
          ]
        }
      ]
    },
    {
      "cell_type": "code",
      "source": [
        "# Stacking arrays\n",
        "x = [1, 4]\n",
        "y = [2, 5]\n",
        "z = [3, 6]\n",
        "print(tf.stack([x, y, z]))  # Stack along the first dimension\n",
        "print(tf.stack([x, y, z], axis=1))  # Stack along a specified axis"
      ],
      "metadata": {
        "colab": {
          "base_uri": "https://localhost:8080/"
        },
        "id": "IigcRVcaYxLo",
        "outputId": "e6a9a70d-3999-41d4-835d-b5a81a6660a7"
      },
      "execution_count": 19,
      "outputs": [
        {
          "output_type": "stream",
          "name": "stdout",
          "text": [
            "tf.Tensor(\n",
            "[[1 4]\n",
            " [2 5]\n",
            " [3 6]], shape=(3, 2), dtype=int32)\n",
            "tf.Tensor(\n",
            "[[1 2 3]\n",
            " [4 5 6]], shape=(2, 3), dtype=int32)\n"
          ]
        }
      ]
    },
    {
      "cell_type": "code",
      "source": [
        "x = [[0, 1, 2],\n",
        "     [2, 1, 0]]\n",
        "print(tf.ones_like(x))  # Create a tensor of ones with the same shape as x\n",
        "print(tf.zeros_like(x))  # Create a tensor of zeros with the same shape as x"
      ],
      "metadata": {
        "colab": {
          "base_uri": "https://localhost:8080/"
        },
        "id": "YoL7hZc4Yyam",
        "outputId": "d4e84ca2-25a8-4aee-e902-4acd87304078"
      },
      "execution_count": 20,
      "outputs": [
        {
          "output_type": "stream",
          "name": "stdout",
          "text": [
            "tf.Tensor(\n",
            "[[1 1 1]\n",
            " [1 1 1]], shape=(2, 3), dtype=int32)\n",
            "tf.Tensor(\n",
            "[[0 0 0]\n",
            " [0 0 0]], shape=(2, 3), dtype=int32)\n"
          ]
        }
      ]
    },
    {
      "cell_type": "code",
      "source": [
        "# Using Python's zip function\n",
        "for x, y in zip([1, 2, 3], [4, 5, 6]):\n",
        "    print(x, y)\n",
        "\n",
        "for x, y, z in zip([1, 2, 3], [4, 5, 6], [7, 8, 9]):\n",
        "    print(x, y, z)"
      ],
      "metadata": {
        "colab": {
          "base_uri": "https://localhost:8080/"
        },
        "id": "oaPCi3IFYz4I",
        "outputId": "ac9ad868-0b98-4b8b-b56f-695b5174bc51"
      },
      "execution_count": 21,
      "outputs": [
        {
          "output_type": "stream",
          "name": "stdout",
          "text": [
            "1 4\n",
            "2 5\n",
            "3 6\n",
            "1 4 7\n",
            "2 5 8\n",
            "3 6 9\n"
          ]
        }
      ]
    },
    {
      "cell_type": "code",
      "source": [
        "# Transposing tensors\n",
        "t = np.array([[[0, 1, 2], [3, 4, 5]], [[6, 7, 8], [9, 10, 11]]])\n",
        "pp.pprint(t.shape)  # Print shape\n",
        "pp.pprint(t)  # Pretty print the array"
      ],
      "metadata": {
        "colab": {
          "base_uri": "https://localhost:8080/"
        },
        "id": "NTga4-N1Y1PC",
        "outputId": "f726250a-37a7-414e-ceea-1840b5d880d3"
      },
      "execution_count": 22,
      "outputs": [
        {
          "output_type": "stream",
          "name": "stdout",
          "text": [
            "(2, 2, 3)\n",
            "array([[[ 0,  1,  2],\n",
            "        [ 3,  4,  5]],\n",
            "\n",
            "       [[ 6,  7,  8],\n",
            "        [ 9, 10, 11]]])\n"
          ]
        }
      ]
    },
    {
      "cell_type": "code",
      "source": [
        "# Transpose the tensor\n",
        "t1 = tf.transpose(t, [1, 0, 2])\n",
        "pp.pprint(t1.shape)\n",
        "pp.pprint(t1)\n",
        "\n",
        "t = tf.transpose(t1, [1, 0, 2])\n",
        "pp.pprint(t.shape)\n",
        "pp.pprint(t)\n",
        "\n",
        "t2 = tf.transpose(t, [1, 2, 0])\n",
        "pp.pprint(t2.shape)\n",
        "pp.pprint(t2)\n",
        "\n",
        "t = tf.transpose(t2, [2, 0, 1])\n",
        "pp.pprint(t.shape)\n",
        "pp.pprint(t)"
      ],
      "metadata": {
        "colab": {
          "base_uri": "https://localhost:8080/"
        },
        "id": "b5Pw-dTXY2g4",
        "outputId": "abc3ab3d-3504-4fdb-ba56-db7809650bd3"
      },
      "execution_count": 23,
      "outputs": [
        {
          "output_type": "stream",
          "name": "stdout",
          "text": [
            "TensorShape([2, 2, 3])\n",
            "<tf.Tensor: shape=(2, 2, 3), dtype=int64, numpy=\n",
            "array([[[ 0,  1,  2],\n",
            "        [ 6,  7,  8]],\n",
            "\n",
            "       [[ 3,  4,  5],\n",
            "        [ 9, 10, 11]]])>\n",
            "TensorShape([2, 2, 3])\n",
            "<tf.Tensor: shape=(2, 2, 3), dtype=int64, numpy=\n",
            "array([[[ 0,  1,  2],\n",
            "        [ 3,  4,  5]],\n",
            "\n",
            "       [[ 6,  7,  8],\n",
            "        [ 9, 10, 11]]])>\n",
            "TensorShape([2, 3, 2])\n",
            "<tf.Tensor: shape=(2, 3, 2), dtype=int64, numpy=\n",
            "array([[[ 0,  6],\n",
            "        [ 1,  7],\n",
            "        [ 2,  8]],\n",
            "\n",
            "       [[ 3,  9],\n",
            "        [ 4, 10],\n",
            "        [ 5, 11]]])>\n",
            "TensorShape([2, 2, 3])\n",
            "<tf.Tensor: shape=(2, 2, 3), dtype=int64, numpy=\n",
            "array([[[ 0,  1,  2],\n",
            "        [ 3,  4,  5]],\n",
            "\n",
            "       [[ 6,  7,  8],\n",
            "        [ 9, 10, 11]]])>\n"
          ]
        }
      ]
    },
    {
      "cell_type": "code",
      "source": [],
      "metadata": {
        "id": "uj_dmS8BY4TN"
      },
      "execution_count": 23,
      "outputs": []
    }
  ]
}
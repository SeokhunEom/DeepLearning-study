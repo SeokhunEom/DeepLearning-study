{
  "nbformat": 4,
  "nbformat_minor": 0,
  "metadata": {
    "colab": {
      "provenance": [],
      "authorship_tag": "ABX9TyMB20ropKae05WleDKJK2Kx",
      "include_colab_link": true
    },
    "kernelspec": {
      "name": "python3",
      "display_name": "Python 3"
    },
    "language_info": {
      "name": "python"
    }
  },
  "cells": [
    {
      "cell_type": "markdown",
      "metadata": {
        "id": "view-in-github",
        "colab_type": "text"
      },
      "source": [
        "<a href=\"https://colab.research.google.com/github/SeokhunEom/DeepLearning-study/blob/main/Section_1.ipynb\" target=\"_parent\"><img src=\"https://colab.research.google.com/assets/colab-badge.svg\" alt=\"Open In Colab\"/></a>"
      ]
    },
    {
      "cell_type": "code",
      "execution_count": null,
      "metadata": {
        "colab": {
          "base_uri": "https://localhost:8080/"
        },
        "id": "3k89JXeBACc9",
        "outputId": "ec6b5864-df2e-4c0c-c7f5-1244641c9ed3"
      },
      "outputs": [
        {
          "output_type": "stream",
          "name": "stdout",
          "text": [
            "TensorFlow version: 2.15.0\n"
          ]
        }
      ],
      "source": [
        "import tensorflow as tf\n",
        "print(\"TensorFlow version:\", tf.__version__)"
      ]
    },
    {
      "cell_type": "code",
      "source": [
        "# Create a constant op\n",
        "hello = tf.constant(\"Hello, TensorFlow!\")\n",
        "\n",
        "# Print the tensor directly\n",
        "print(hello.numpy())  # Use .numpy() to get the value of the tensor"
      ],
      "metadata": {
        "colab": {
          "base_uri": "https://localhost:8080/"
        },
        "id": "R8nlmKWHAaXM",
        "outputId": "83b5a7eb-c48f-49aa-8b51-8f4a34845250"
      },
      "execution_count": null,
      "outputs": [
        {
          "output_type": "stream",
          "name": "stdout",
          "text": [
            "b'Hello, TensorFlow!'\n"
          ]
        }
      ]
    },
    {
      "cell_type": "code",
      "source": [
        "3 # a rank 0 tensor; this is a scalar with shape []\n",
        "[1. ,2., 3.] # a rank 1 tensor; this is a vector with shape [3]\n",
        "[[1., 2., 3.], [4., 5., 6.]] # a rank 2 tensor; a matrix with shape [2, 3]\n",
        "[[[1., 2., 3.]], [[7., 8., 9.]]] # a rank 3 tensor with shape [2, 1, 3]"
      ],
      "metadata": {
        "colab": {
          "base_uri": "https://localhost:8080/"
        },
        "id": "qpkE6tSfE2Dj",
        "outputId": "a6732d8c-6fb7-4d92-cd67-130c5ee5a450"
      },
      "execution_count": null,
      "outputs": [
        {
          "output_type": "execute_result",
          "data": {
            "text/plain": [
              "[[[1.0, 2.0, 3.0]], [[7.0, 8.0, 9.0]]]"
            ]
          },
          "metadata": {},
          "execution_count": 3
        }
      ]
    },
    {
      "cell_type": "code",
      "source": [
        "node1 = tf.constant(3.0, tf.float32)\n",
        "node2 = tf.constant(4.0) # also tf.float32 implicitly\n",
        "node3 = tf.add(node1, node2)"
      ],
      "metadata": {
        "id": "5_BEaHW6BpS5"
      },
      "execution_count": null,
      "outputs": []
    },
    {
      "cell_type": "code",
      "source": [
        "print(\"node1:\", node1, \"node2:\", node2)\n",
        "print(\"node3: \", node3)"
      ],
      "metadata": {
        "colab": {
          "base_uri": "https://localhost:8080/"
        },
        "id": "eZvVefVGCCjT",
        "outputId": "b9035765-f9a5-4043-f904-3820174e08a4"
      },
      "execution_count": null,
      "outputs": [
        {
          "output_type": "stream",
          "name": "stdout",
          "text": [
            "node1: tf.Tensor(3.0, shape=(), dtype=float32) node2: tf.Tensor(4.0, shape=(), dtype=float32)\n",
            "node3:  tf.Tensor(7.0, shape=(), dtype=float32)\n"
          ]
        }
      ]
    },
    {
      "cell_type": "code",
      "source": [
        "# Print the values of the tensors\n",
        "print(\"node1:\", node1.numpy(), \"node2:\", node2.numpy())\n",
        "print(\"node3: \", node3.numpy())  # Use .numpy() to get the values"
      ],
      "metadata": {
        "colab": {
          "base_uri": "https://localhost:8080/"
        },
        "id": "H7Hy9eD5CHCR",
        "outputId": "fc371f2d-d1ae-42ec-d85b-f2aef4edea12"
      },
      "execution_count": null,
      "outputs": [
        {
          "output_type": "stream",
          "name": "stdout",
          "text": [
            "node1: 3.0 node2: 4.0\n",
            "node3:  7.0\n"
          ]
        }
      ]
    },
    {
      "cell_type": "code",
      "source": [
        "# Create variables\n",
        "a = tf.Variable(0.0, dtype=tf.float32)\n",
        "b = tf.Variable(0.0, dtype=tf.float32)\n",
        "\n",
        "# Assign scalar values and compute\n",
        "a.assign(3.0)\n",
        "b.assign(4.5)\n",
        "result = a + b\n",
        "print(result.numpy())\n",
        "\n",
        "# Create new variables with the required shape for the second example\n",
        "a_vector = tf.Variable([1.0, 3.0], dtype=tf.float32)\n",
        "b_vector = tf.Variable([2.0, 4.0], dtype=tf.float32)\n",
        "result = a_vector + b_vector\n",
        "print(result.numpy())"
      ],
      "metadata": {
        "colab": {
          "base_uri": "https://localhost:8080/"
        },
        "id": "LCLA5b0-CLP2",
        "outputId": "62a037bb-6a53-44fd-fb72-9fd85e3c23a2"
      },
      "execution_count": null,
      "outputs": [
        {
          "output_type": "stream",
          "name": "stdout",
          "text": [
            "7.5\n",
            "[3. 7.]\n"
          ]
        }
      ]
    },
    {
      "cell_type": "code",
      "source": [],
      "metadata": {
        "id": "rQ61bJU2FPVW"
      },
      "execution_count": null,
      "outputs": []
    }
  ]
}
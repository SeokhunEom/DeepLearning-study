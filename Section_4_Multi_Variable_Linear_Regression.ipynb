{
  "nbformat": 4,
  "nbformat_minor": 0,
  "metadata": {
    "colab": {
      "provenance": [],
      "authorship_tag": "ABX9TyPXH4eflsYF/MqzDBV9M8WQ",
      "include_colab_link": true
    },
    "kernelspec": {
      "name": "python3",
      "display_name": "Python 3"
    },
    "language_info": {
      "name": "python"
    }
  },
  "cells": [
    {
      "cell_type": "markdown",
      "metadata": {
        "id": "view-in-github",
        "colab_type": "text"
      },
      "source": [
        "<a href=\"https://colab.research.google.com/github/SeokhunEom/DeepLearning-study/blob/main/Section_4_Multi_Variable_Linear_Regression.ipynb\" target=\"_parent\"><img src=\"https://colab.research.google.com/assets/colab-badge.svg\" alt=\"Open In Colab\"/></a>"
      ]
    },
    {
      "cell_type": "code",
      "execution_count": 1,
      "metadata": {
        "id": "qESVZ_iWvp2E"
      },
      "outputs": [],
      "source": [
        "# Importing necessary libraries\n",
        "import tensorflow as tf\n",
        "import numpy as np"
      ]
    },
    {
      "cell_type": "code",
      "source": [
        "# Preparing the training data\n",
        "# x_data contains the feature set with 3 features for each sample\n",
        "x_data = [[73., 80., 75.],  # Sample 1 with 3 features\n",
        "          [93., 88., 93.],  # Sample 2 with 3 features\n",
        "          [89., 91., 90.],  # Sample 3 with 3 features\n",
        "          [96., 98., 100.], # Sample 4 with 3 features\n",
        "          [73., 66., 70.]]  # Sample 5 with 3 features\n",
        "\n",
        "# y_data contains the target values corresponding to each sample in x_data\n",
        "y_data = [[152.],  # Target value for Sample 1\n",
        "          [185.],  # Target value for Sample 2\n",
        "          [180.],  # Target value for Sample 3\n",
        "          [196.],  # Target value for Sample 4\n",
        "          [142.]]  # Target value for Sample 5"
      ],
      "metadata": {
        "id": "OFE-9j2jvxFZ"
      },
      "execution_count": 2,
      "outputs": []
    },
    {
      "cell_type": "code",
      "source": [
        "# Creating a Sequential model in TensorFlow using Keras API\n",
        "tf.model = tf.keras.Sequential()"
      ],
      "metadata": {
        "id": "mtq5xyBtvys3"
      },
      "execution_count": 3,
      "outputs": []
    },
    {
      "cell_type": "code",
      "source": [
        "# Adding a Dense layer to the model\n",
        "# units=1: This specifies that the output of this layer is a single value (regression output)\n",
        "# input_dim=3: This specifies that the input to this layer consists of 3 features (multi-variable regression)\n",
        "tf.model.add(tf.keras.layers.Dense(units=1, input_dim=3))"
      ],
      "metadata": {
        "id": "PimlwA1-v2HK"
      },
      "execution_count": 4,
      "outputs": []
    },
    {
      "cell_type": "code",
      "source": [
        "# Adding a linear activation function\n",
        "# The linear activation is the default activation for Dense layers, so this line can be omitted\n",
        "tf.model.add(tf.keras.layers.Activation('linear'))"
      ],
      "metadata": {
        "id": "seydhgU9v3pv"
      },
      "execution_count": 5,
      "outputs": []
    },
    {
      "cell_type": "code",
      "source": [
        "# Compiling the model\n",
        "# loss='mse': This specifies that the loss function to be used is Mean Squared Error, which is common for regression tasks\n",
        "# optimizer=tf.keras.optimizers.SGD(lr=1e-5): This specifies that the optimizer to be used is Stochastic Gradient Descent with a learning rate of 0.00001\n",
        "tf.model.compile(loss='mse', optimizer=tf.keras.optimizers.SGD(learning_rate=1e-5))"
      ],
      "metadata": {
        "id": "0FsoJ6Izv5tI"
      },
      "execution_count": 6,
      "outputs": []
    },
    {
      "cell_type": "code",
      "source": [
        "# Printing the summary of the model\n",
        "# This shows the layers, the number of parameters, and the output shape of each layer\n",
        "tf.model.summary()"
      ],
      "metadata": {
        "colab": {
          "base_uri": "https://localhost:8080/"
        },
        "id": "Tu1KdWbZv74x",
        "outputId": "7e182442-98f6-466a-8db8-b905e822eab8"
      },
      "execution_count": 7,
      "outputs": [
        {
          "output_type": "stream",
          "name": "stdout",
          "text": [
            "Model: \"sequential\"\n",
            "_________________________________________________________________\n",
            " Layer (type)                Output Shape              Param #   \n",
            "=================================================================\n",
            " dense (Dense)               (None, 1)                 4         \n",
            "                                                                 \n",
            " activation (Activation)     (None, 1)                 0         \n",
            "                                                                 \n",
            "=================================================================\n",
            "Total params: 4 (16.00 Byte)\n",
            "Trainable params: 4 (16.00 Byte)\n",
            "Non-trainable params: 0 (0.00 Byte)\n",
            "_________________________________________________________________\n"
          ]
        }
      ]
    },
    {
      "cell_type": "code",
      "source": [
        "# Training the model\n",
        "# x_data: The input data\n",
        "# y_data: The target data\n",
        "# epochs=100: The number of times to iterate over the training data\n",
        "history = tf.model.fit(x_data, y_data, epochs=100)"
      ],
      "metadata": {
        "colab": {
          "base_uri": "https://localhost:8080/"
        },
        "id": "njLbdYwev8_H",
        "outputId": "d9a8173a-9a7c-434c-c2fc-26fd5fbbdfba"
      },
      "execution_count": 8,
      "outputs": [
        {
          "output_type": "stream",
          "name": "stdout",
          "text": [
            "Epoch 1/100\n",
            "1/1 [==============================] - 0s 347ms/step - loss: 28168.2227\n",
            "Epoch 2/100\n",
            "1/1 [==============================] - 0s 17ms/step - loss: 8838.7275\n",
            "Epoch 3/100\n",
            "1/1 [==============================] - 0s 9ms/step - loss: 2779.9536\n",
            "Epoch 4/100\n",
            "1/1 [==============================] - 0s 13ms/step - loss: 880.8453\n",
            "Epoch 5/100\n",
            "1/1 [==============================] - 0s 13ms/step - loss: 285.5699\n",
            "Epoch 6/100\n",
            "1/1 [==============================] - 0s 13ms/step - loss: 98.9780\n",
            "Epoch 7/100\n",
            "1/1 [==============================] - 0s 15ms/step - loss: 40.4865\n",
            "Epoch 8/100\n",
            "1/1 [==============================] - 0s 13ms/step - loss: 22.1477\n",
            "Epoch 9/100\n",
            "1/1 [==============================] - 0s 14ms/step - loss: 16.3947\n",
            "Epoch 10/100\n",
            "1/1 [==============================] - 0s 12ms/step - loss: 14.5866\n",
            "Epoch 11/100\n",
            "1/1 [==============================] - 0s 17ms/step - loss: 14.0151\n",
            "Epoch 12/100\n",
            "1/1 [==============================] - 0s 14ms/step - loss: 13.8311\n",
            "Epoch 13/100\n",
            "1/1 [==============================] - 0s 11ms/step - loss: 13.7687\n",
            "Epoch 14/100\n",
            "1/1 [==============================] - 0s 16ms/step - loss: 13.7443\n",
            "Epoch 15/100\n",
            "1/1 [==============================] - 0s 12ms/step - loss: 13.7319\n",
            "Epoch 16/100\n",
            "1/1 [==============================] - 0s 16ms/step - loss: 13.7231\n",
            "Epoch 17/100\n",
            "1/1 [==============================] - 0s 13ms/step - loss: 13.7157\n",
            "Epoch 18/100\n",
            "1/1 [==============================] - 0s 10ms/step - loss: 13.7085\n",
            "Epoch 19/100\n",
            "1/1 [==============================] - 0s 14ms/step - loss: 13.7015\n",
            "Epoch 20/100\n",
            "1/1 [==============================] - 0s 11ms/step - loss: 13.6945\n",
            "Epoch 21/100\n",
            "1/1 [==============================] - 0s 14ms/step - loss: 13.6875\n",
            "Epoch 22/100\n",
            "1/1 [==============================] - 0s 13ms/step - loss: 13.6805\n",
            "Epoch 23/100\n",
            "1/1 [==============================] - 0s 10ms/step - loss: 13.6736\n",
            "Epoch 24/100\n",
            "1/1 [==============================] - 0s 12ms/step - loss: 13.6666\n",
            "Epoch 25/100\n",
            "1/1 [==============================] - 0s 11ms/step - loss: 13.6597\n",
            "Epoch 26/100\n",
            "1/1 [==============================] - 0s 11ms/step - loss: 13.6527\n",
            "Epoch 27/100\n",
            "1/1 [==============================] - 0s 18ms/step - loss: 13.6458\n",
            "Epoch 28/100\n",
            "1/1 [==============================] - 0s 12ms/step - loss: 13.6389\n",
            "Epoch 29/100\n",
            "1/1 [==============================] - 0s 13ms/step - loss: 13.6319\n",
            "Epoch 30/100\n",
            "1/1 [==============================] - 0s 16ms/step - loss: 13.6250\n",
            "Epoch 31/100\n",
            "1/1 [==============================] - 0s 11ms/step - loss: 13.6180\n",
            "Epoch 32/100\n",
            "1/1 [==============================] - 0s 12ms/step - loss: 13.6111\n",
            "Epoch 33/100\n",
            "1/1 [==============================] - 0s 14ms/step - loss: 13.6042\n",
            "Epoch 34/100\n",
            "1/1 [==============================] - 0s 11ms/step - loss: 13.5973\n",
            "Epoch 35/100\n",
            "1/1 [==============================] - 0s 13ms/step - loss: 13.5904\n",
            "Epoch 36/100\n",
            "1/1 [==============================] - 0s 12ms/step - loss: 13.5835\n",
            "Epoch 37/100\n",
            "1/1 [==============================] - 0s 13ms/step - loss: 13.5765\n",
            "Epoch 38/100\n",
            "1/1 [==============================] - 0s 11ms/step - loss: 13.5696\n",
            "Epoch 39/100\n",
            "1/1 [==============================] - 0s 13ms/step - loss: 13.5627\n",
            "Epoch 40/100\n",
            "1/1 [==============================] - 0s 13ms/step - loss: 13.5559\n",
            "Epoch 41/100\n",
            "1/1 [==============================] - 0s 13ms/step - loss: 13.5490\n",
            "Epoch 42/100\n",
            "1/1 [==============================] - 0s 14ms/step - loss: 13.5421\n",
            "Epoch 43/100\n",
            "1/1 [==============================] - 0s 12ms/step - loss: 13.5352\n",
            "Epoch 44/100\n",
            "1/1 [==============================] - 0s 12ms/step - loss: 13.5283\n",
            "Epoch 45/100\n",
            "1/1 [==============================] - 0s 12ms/step - loss: 13.5214\n",
            "Epoch 46/100\n",
            "1/1 [==============================] - 0s 10ms/step - loss: 13.5145\n",
            "Epoch 47/100\n",
            "1/1 [==============================] - 0s 12ms/step - loss: 13.5077\n",
            "Epoch 48/100\n",
            "1/1 [==============================] - 0s 17ms/step - loss: 13.5008\n",
            "Epoch 49/100\n",
            "1/1 [==============================] - 0s 14ms/step - loss: 13.4940\n",
            "Epoch 50/100\n",
            "1/1 [==============================] - 0s 15ms/step - loss: 13.4871\n",
            "Epoch 51/100\n",
            "1/1 [==============================] - 0s 16ms/step - loss: 13.4802\n",
            "Epoch 52/100\n",
            "1/1 [==============================] - 0s 12ms/step - loss: 13.4734\n",
            "Epoch 53/100\n",
            "1/1 [==============================] - 0s 13ms/step - loss: 13.4666\n",
            "Epoch 54/100\n",
            "1/1 [==============================] - 0s 14ms/step - loss: 13.4597\n",
            "Epoch 55/100\n",
            "1/1 [==============================] - 0s 13ms/step - loss: 13.4529\n",
            "Epoch 56/100\n",
            "1/1 [==============================] - 0s 12ms/step - loss: 13.4460\n",
            "Epoch 57/100\n",
            "1/1 [==============================] - 0s 14ms/step - loss: 13.4392\n",
            "Epoch 58/100\n",
            "1/1 [==============================] - 0s 11ms/step - loss: 13.4324\n",
            "Epoch 59/100\n",
            "1/1 [==============================] - 0s 11ms/step - loss: 13.4255\n",
            "Epoch 60/100\n",
            "1/1 [==============================] - 0s 13ms/step - loss: 13.4187\n",
            "Epoch 61/100\n",
            "1/1 [==============================] - 0s 16ms/step - loss: 13.4119\n",
            "Epoch 62/100\n",
            "1/1 [==============================] - 0s 15ms/step - loss: 13.4050\n",
            "Epoch 63/100\n",
            "1/1 [==============================] - 0s 15ms/step - loss: 13.3983\n",
            "Epoch 64/100\n",
            "1/1 [==============================] - 0s 14ms/step - loss: 13.3914\n",
            "Epoch 65/100\n",
            "1/1 [==============================] - 0s 12ms/step - loss: 13.3847\n",
            "Epoch 66/100\n",
            "1/1 [==============================] - 0s 16ms/step - loss: 13.3779\n",
            "Epoch 67/100\n",
            "1/1 [==============================] - 0s 13ms/step - loss: 13.3711\n",
            "Epoch 68/100\n",
            "1/1 [==============================] - 0s 13ms/step - loss: 13.3642\n",
            "Epoch 69/100\n",
            "1/1 [==============================] - 0s 17ms/step - loss: 13.3575\n",
            "Epoch 70/100\n",
            "1/1 [==============================] - 0s 13ms/step - loss: 13.3507\n",
            "Epoch 71/100\n",
            "1/1 [==============================] - 0s 16ms/step - loss: 13.3439\n",
            "Epoch 72/100\n",
            "1/1 [==============================] - 0s 13ms/step - loss: 13.3371\n",
            "Epoch 73/100\n",
            "1/1 [==============================] - 0s 10ms/step - loss: 13.3304\n",
            "Epoch 74/100\n",
            "1/1 [==============================] - 0s 11ms/step - loss: 13.3236\n",
            "Epoch 75/100\n",
            "1/1 [==============================] - 0s 14ms/step - loss: 13.3168\n",
            "Epoch 76/100\n",
            "1/1 [==============================] - 0s 14ms/step - loss: 13.3101\n",
            "Epoch 77/100\n",
            "1/1 [==============================] - 0s 13ms/step - loss: 13.3033\n",
            "Epoch 78/100\n",
            "1/1 [==============================] - 0s 18ms/step - loss: 13.2966\n",
            "Epoch 79/100\n",
            "1/1 [==============================] - 0s 16ms/step - loss: 13.2898\n",
            "Epoch 80/100\n",
            "1/1 [==============================] - 0s 14ms/step - loss: 13.2831\n",
            "Epoch 81/100\n",
            "1/1 [==============================] - 0s 18ms/step - loss: 13.2763\n",
            "Epoch 82/100\n",
            "1/1 [==============================] - 0s 16ms/step - loss: 13.2695\n",
            "Epoch 83/100\n",
            "1/1 [==============================] - 0s 16ms/step - loss: 13.2628\n",
            "Epoch 84/100\n",
            "1/1 [==============================] - 0s 14ms/step - loss: 13.2561\n",
            "Epoch 85/100\n",
            "1/1 [==============================] - 0s 19ms/step - loss: 13.2494\n",
            "Epoch 86/100\n",
            "1/1 [==============================] - 0s 21ms/step - loss: 13.2426\n",
            "Epoch 87/100\n",
            "1/1 [==============================] - 0s 14ms/step - loss: 13.2359\n",
            "Epoch 88/100\n",
            "1/1 [==============================] - 0s 18ms/step - loss: 13.2292\n",
            "Epoch 89/100\n",
            "1/1 [==============================] - 0s 16ms/step - loss: 13.2225\n",
            "Epoch 90/100\n",
            "1/1 [==============================] - 0s 18ms/step - loss: 13.2158\n",
            "Epoch 91/100\n",
            "1/1 [==============================] - 0s 15ms/step - loss: 13.2091\n",
            "Epoch 92/100\n",
            "1/1 [==============================] - 0s 16ms/step - loss: 13.2024\n",
            "Epoch 93/100\n",
            "1/1 [==============================] - 0s 12ms/step - loss: 13.1957\n",
            "Epoch 94/100\n",
            "1/1 [==============================] - 0s 19ms/step - loss: 13.1890\n",
            "Epoch 95/100\n",
            "1/1 [==============================] - 0s 15ms/step - loss: 13.1823\n",
            "Epoch 96/100\n",
            "1/1 [==============================] - 0s 19ms/step - loss: 13.1756\n",
            "Epoch 97/100\n",
            "1/1 [==============================] - 0s 17ms/step - loss: 13.1689\n",
            "Epoch 98/100\n",
            "1/1 [==============================] - 0s 17ms/step - loss: 13.1622\n",
            "Epoch 99/100\n",
            "1/1 [==============================] - 0s 17ms/step - loss: 13.1555\n",
            "Epoch 100/100\n",
            "1/1 [==============================] - 0s 14ms/step - loss: 13.1488\n"
          ]
        }
      ]
    },
    {
      "cell_type": "code",
      "source": [
        "# Making a prediction with the trained model\n",
        "# np.array([[72., 93., 90.]]): This is the input data for which we want to make a prediction\n",
        "y_predict = tf.model.predict(np.array([[72., 93., 90.]]))"
      ],
      "metadata": {
        "colab": {
          "base_uri": "https://localhost:8080/"
        },
        "id": "paVTNEgwv-OA",
        "outputId": "115253c9-b75b-42f7-9a9c-e0381afc92e0"
      },
      "execution_count": 9,
      "outputs": [
        {
          "output_type": "stream",
          "name": "stdout",
          "text": [
            "1/1 [==============================] - 0s 123ms/step\n"
          ]
        }
      ]
    },
    {
      "cell_type": "code",
      "source": [
        "# Printing the predicted output\n",
        "print(y_predict)"
      ],
      "metadata": {
        "colab": {
          "base_uri": "https://localhost:8080/"
        },
        "id": "oiG9rsDowAzt",
        "outputId": "1a87c14b-6a12-4b57-86f3-3d122736285f"
      },
      "execution_count": 10,
      "outputs": [
        {
          "output_type": "stream",
          "name": "stdout",
          "text": [
            "[[157.1025]]\n"
          ]
        }
      ]
    },
    {
      "cell_type": "code",
      "source": [],
      "metadata": {
        "id": "GiAb4qruwB1P"
      },
      "execution_count": 10,
      "outputs": []
    }
  ]
}